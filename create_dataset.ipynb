{
 "cells": [
  {
   "cell_type": "markdown",
   "metadata": {},
   "source": [
    "# Classification - Create dataset"
   ]
  },
  {
   "cell_type": "code",
   "execution_count": 1,
   "metadata": {},
   "outputs": [
    {
     "name": "stdout",
     "output_type": "stream",
     "text": [
      "INFO> TensorFlow version : 2.1.0\n",
      "INFO> # of GPUs available: 1\n"
     ]
    }
   ],
   "source": [
    "import yaml\n",
    "import os\n",
    "import shutil\n",
    "import subprocess\n",
    "import datetime\n",
    "import numpy\n",
    "import random\n",
    "import sklearn.model_selection\n",
    "import tensorflow\n",
    "\n",
    "print(\"INFO> TensorFlow version : %s\" % tensorflow.__version__)\n",
    "print(\"INFO> # of GPUs available: %d\" % len(tensorflow.config.experimental.list_physical_devices('GPU')))"
   ]
  },
  {
   "cell_type": "code",
   "execution_count": 2,
   "metadata": {},
   "outputs": [
    {
     "name": "stdout",
     "output_type": "stream",
     "text": [
      "INFO> Current folder : /raid5/disk1/mlproj11/classification\n",
      "YAML> batchSize      : 16\n",
      "YAML> checkDataset   : True\n",
      "YAML> checkpointDir  : /home/jmv/data/mlproj11/tmp/\n",
      "YAML> createDataset  : True\n",
      "YAML> datasetDir     : /home/jmv/data/mlproj11/dataset\n",
      "YAML> goldenDataset  : /home/jmv/data/mlproj11/SignifyGolden20191212/dataset\n",
      "YAML> imageHeight    : 720\n",
      "YAML> imageWidth     : 1280\n",
      "YAML> learningRate   : 1e-6\n",
      "YAML> logDir         : /home/jmv/data/mlproj11/log/\n",
      "YAML> nEpochs        : 1000\n",
      "YAML> trnDir         : /home/jmv/data/mlproj11/dataset/trn\n",
      "YAML> tstDir         : /home/jmv/data/mlproj11/dataset/tst\n",
      "YAML> valDir         : /home/jmv/data/mlproj11/dataset/val\n"
     ]
    }
   ],
   "source": [
    "# Read parameters from local config.yaml file, and update corresponding Python variables\n",
    "currentDir = os.getcwd()\n",
    "print(f\"INFO> Current folder : {currentDir}\")\n",
    "yamlFile = open('config.yaml','r')\n",
    "yamlData = yaml.load(yamlFile,Loader=yaml.Loader)\n",
    "\n",
    "for key in sorted(yamlData):\n",
    "    print(\"YAML> %-15s: %s\" % (key,yamlData[key]))"
   ]
  },
  {
   "cell_type": "code",
   "execution_count": 3,
   "metadata": {},
   "outputs": [
    {
     "name": "stdout",
     "output_type": "stream",
     "text": [
      "INFO> Processing folder: trn\n",
      "INFO>     Number of samples in class defect-01: 613\n",
      "INFO>     Number of samples in class defect-02: 51\n",
      "INFO>     Number of samples in class defect-03: 307\n",
      "INFO>     Number of samples in class defect-04: 227\n",
      "INFO>     Number of samples in class defect-05: 230\n",
      "INFO>     Number of samples in class defect-06: 115\n",
      "INFO>     Number of samples in class defect-07: 152\n",
      "INFO>     Number of samples in class defect-08: 244\n",
      "INFO>     Number of samples in class defect-09: 202\n",
      "INFO>     Number of samples in class defect-10: 259\n",
      "INFO>     Number of samples in class defect-11: 229\n",
      "INFO>     Number of samples in class ok: 24888\n",
      "INFO> Processing folder: tst\n",
      "INFO>     Number of samples in class defect-01: 205\n",
      "INFO>     Number of samples in class defect-02: 17\n",
      "INFO>     Number of samples in class defect-03: 103\n",
      "INFO>     Number of samples in class defect-04: 76\n",
      "INFO>     Number of samples in class defect-05: 77\n",
      "INFO>     Number of samples in class defect-06: 38\n",
      "INFO>     Number of samples in class defect-07: 50\n",
      "INFO>     Number of samples in class defect-08: 81\n",
      "INFO>     Number of samples in class defect-09: 67\n",
      "INFO>     Number of samples in class defect-10: 87\n",
      "INFO>     Number of samples in class defect-11: 76\n",
      "INFO>     Number of samples in class ok: 8296\n",
      "INFO> Processing folder: val\n",
      "INFO>     Number of samples in class defect-01: 205\n",
      "INFO>     Number of samples in class defect-02: 17\n",
      "INFO>     Number of samples in class defect-03: 102\n",
      "INFO>     Number of samples in class defect-04: 76\n",
      "INFO>     Number of samples in class defect-05: 77\n",
      "INFO>     Number of samples in class defect-06: 38\n",
      "INFO>     Number of samples in class defect-07: 50\n",
      "INFO>     Number of samples in class defect-08: 81\n",
      "INFO>     Number of samples in class defect-09: 68\n",
      "INFO>     Number of samples in class defect-10: 86\n",
      "INFO>     Number of samples in class defect-11: 77\n",
      "INFO>     Number of samples in class ok: 8296\n"
     ]
    }
   ],
   "source": [
    "# Optionally create dataset from golden data set & check the newly created dataset\n",
    "if yamlData['createDataset']:\n",
    "    # Remove datasetDir folder & sub-folders - and then create it again to start from scratch\n",
    "    shutil.rmtree(yamlData['datasetDir'], ignore_errors=True)\n",
    "    os.mkdir(yamlData['datasetDir'])\n",
    "    \n",
    "    listOfImages = [os.path.join(dirPath,fileName) \n",
    "                        for dirPath,_,fileNames in os.walk(yamlData['goldenDataset'])\n",
    "                        for fileName in fileNames]\n",
    "    listOfLabels = [image.split(os.sep) [-3] for image in listOfImages]\n",
    "\n",
    "    # Split dataset: 60% training set, 20% validation & 20% test sets\n",
    "    trnvalImages, tstImages, trnvalLabels, tstLabels = sklearn.model_selection.train_test_split(\n",
    "        listOfImages, listOfLabels, test_size=0.2, stratify=listOfLabels, random_state=42)\n",
    "    trnImages, valImages, trnLabels, valLabels = sklearn.model_selection.train_test_split(\n",
    "        trnvalImages, trnvalLabels, test_size=0.25, stratify=trnvalLabels, random_state=42)\n",
    "\n",
    "    # Copy images in datasetDir\n",
    "    for dstImages,dstDir in zip([trnImages,valImages,tstImages],[yamlData['trnDir'],yamlData['valDir'],yamlData['tstDir']]):\n",
    "        for dstImage in dstImages:\n",
    "            currentClass,currentLight,currentImage = dstImage.split(os.sep)[-3:]\n",
    "            os.makedirs(os.path.join(dstDir,currentClass),exist_ok=True)\n",
    "            shutil.copyfile(dstImage,os.path.join(dstDir,currentClass,currentLight+\"_\"+currentImage))\n",
    "\n",
    "if yamlData['checkDataset']:\n",
    "    for subDir in sorted(os.listdir(yamlData['datasetDir'])):\n",
    "        print(f\"INFO> Processing folder: {subDir}\")\n",
    "        for myClass in sorted(os.listdir(os.path.join(yamlData['datasetDir'], subDir))):\n",
    "            nImages = len(os.listdir(os.path.join(yamlData['datasetDir'], subDir, myClass)))\n",
    "            print(f\"INFO>     Number of samples in class {myClass}: {nImages}\")"
   ]
  }
 ],
 "metadata": {
  "kernelspec": {
   "display_name": "Python 3",
   "language": "python",
   "name": "python3"
  },
  "language_info": {
   "codemirror_mode": {
    "name": "ipython",
    "version": 3
   },
   "file_extension": ".py",
   "mimetype": "text/x-python",
   "name": "python",
   "nbconvert_exporter": "python",
   "pygments_lexer": "ipython3",
   "version": "3.6.8"
  }
 },
 "nbformat": 4,
 "nbformat_minor": 4
}
